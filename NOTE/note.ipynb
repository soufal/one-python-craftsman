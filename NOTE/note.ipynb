{
 "cells": [
  {
   "cell_type": "markdown",
   "metadata": {},
   "source": [
    "##### 实用技巧：\n",
    "\n",
    "1. 布尔值也是**数字**：`True`等价于`1`，`False`等价于`0`。\n",
    "\n",
    "```python\n",
    "#可配合sum函数在需要计算总数时简化操作\n",
    "l = [1,2,4,5,7]\n",
    "total_ou = sum(i % 2 == 0 for i in l)\n",
    "\n",
    "#将某个布尔值当做列表的下标使用，可实现类似三元表达式的目的\n",
    "result = [\"Python\", \"Javascript\"][2 > 1]\n",
    "\n",
    "```\n",
    "\n",
    "2. **使用括号将长字符串包起来，可以随意拆行**。\n",
    "\n",
    "```python\n",
    "s = (\n",
    "    \"There is something really bad happened during the process. \"\n",
    "    \"Please contact your administrator.\"\n",
    ")\n",
    "\n",
    "def main():\n",
    "    logger.info(\n",
    "        \"There is something really bad happened during the process. \"\n",
    "        \"Please contact your administrator.\"\n",
    "    )\n",
    "```\n",
    "3. 使用`textwrap`库解决带缩进层级的代码里的长字符串问题。\n",
    "\n",
    "```python\n",
    "for textwrap import dedent\n",
    "\n",
    "def main():\n",
    "    if user.is_active:\n",
    "        # dedent 将会缩进整段文字最左边的空字符串\n",
    "        message = dedent(\"\"\"\\\n",
    "            Welcome, today's movie list:\n",
    "            - Jaw (1975)\n",
    "            - The Shining (1980)\n",
    "            - Saw (2004)\"\"\")\n",
    "```\n",
    "4. 特别大的数字，可以通过在中间添加下划线提高可读性。\n",
    "\n",
    "```python\n",
    "# 以“千”为单位划分数字\n",
    "bill = 10_000_000.0\n",
    "# 16进制数字同样有效，4个一组更易读\n",
    "num1 = 0xCAFE_F00D\n",
    "# 二进制也有效\n",
    "num2 = 0b_0011_1111_0100_1110\n",
    "# 处理字符串的时候也会正确处理下划线\n",
    "num3 = int('0b_1111_0000', 2)\n",
    "```\n",
    "\n",
    "5. 使用“无穷大”float(\"inf\")：`float(\"-inf\") < 任意数值 < float(\"inf\")`\n",
    "\n",
    "```python\n",
    "# A.根据年龄升序排序，没有提供年龄的放在最后边\n",
    "users = {\"tom\": 19, \"jenny\": 13, \"jack\": None, \"andrew\": 43}\n",
    "sorted_users = sorted(users.keys(), key=lambda user: users.get(user) or float('inf'))\n",
    "\n",
    "# B. 作为循环初始值，简化第一次判断逻辑(特别是在不能明确实际数据的范围时)\n",
    "max_num = float('-inf')\n",
    "# 找到列表中最大的数字\n",
    "for i in [23,71,3,21,8]:\n",
    "    if i > max_num:\n",
    "        max_num = i\n",
    "```"
   ]
  },
  {
   "cell_type": "markdown",
   "metadata": {},
   "source": [
    "##### 常见误区\n",
    "\n",
    "1. `value += 1`并非线程安全：\n",
    "\n",
    "“线程安全”：通常被用来形容**某个行为或者某类数据结构，可以在多线程环境下被共享使用并产生预期内的结果**。\n",
    "\n",
    "一个典型的满足“线程安全”的模块是`queue`队列模块。\n",
    "\n",
    "> 多线程环境下的编码非常复杂，要足够谨慎，不能相信自己的直觉。"
   ]
  },
  {
   "cell_type": "markdown",
   "metadata": {},
   "source": [
    "### 容器之道\n",
    "\n",
    "**容器**：*对专门用来装其他对象的数据类型的统称。*\n",
    "\n",
    "常见的内建容器类型：\n",
    "* 列表（list）\n",
    "* 元组（tuple）\n",
    "* 字典（dict）\n",
    "* 集合（set）\n",
    "\n",
    "##### 写更快的代码\n",
    "\n",
    "1. 避免频繁扩充列表/创建新列表\n",
    "\n",
    "> 在Python的实现细节里面，列表的内存是按需分配的，当某个列表当前拥有的内存不够时，便会触发内存扩容逻辑。而分配内存是一项昂贵的操作。\n",
    "\n",
    "避免过于频繁的内存分配：\n",
    "* 更多的使用`yield`关键字，返回生成器对象\n",
    "* 尽量使用生成器表达式替代列表推导表达式\n",
    "    * 生成器表达式：`(i for i in range(100))`\n",
    "    * 列表推导表达式：`[i for i in range(100)]`\n",
    "* 尽量使用模块提供的懒惰对象：\n",
    "    * 使用`refinditer`替代`re.findall`\n",
    "    * 直接使用可迭代的文件对象：`for line in fp`，而不是`for line in fp.readlines()`\n",
    "\n",
    "2. 在列表头部操作多的场景使用`deque`模块\n",
    "\n",
    "如需在列表头部操作多，使用`collections.deque`类型替代列表。\n",
    "\n",
    "3. 使用集合/字典来判断成员是否存在\n",
    "\n",
    "> 因为字典与集合都是基于哈希表（Hash Table）数据结构实现的。"
   ]
  },
  {
   "cell_type": "code",
   "execution_count": 1,
   "metadata": {},
   "outputs": [],
   "source": [
    "test = (i for i in range(1000000000000000000000))"
   ]
  },
  {
   "cell_type": "code",
   "execution_count": null,
   "metadata": {},
   "outputs": [],
   "source": []
  }
 ],
 "metadata": {
  "kernelspec": {
   "display_name": "Python 3.7.3 ('base')",
   "language": "python",
   "name": "python3"
  },
  "language_info": {
   "codemirror_mode": {
    "name": "ipython",
    "version": 3
   },
   "file_extension": ".py",
   "mimetype": "text/x-python",
   "name": "python",
   "nbconvert_exporter": "python",
   "pygments_lexer": "ipython3",
   "version": "3.7.3"
  },
  "orig_nbformat": 4,
  "vscode": {
   "interpreter": {
    "hash": "4966f2686f0657cbb0f4ea9b441387dec616b016eec34c05c7f7f64bcdf9edbc"
   }
  }
 },
 "nbformat": 4,
 "nbformat_minor": 2
}
