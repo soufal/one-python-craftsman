{
 "cells": [
  {
   "cell_type": "markdown",
   "metadata": {},
   "source": [
    "##### 实用技巧：\n",
    "\n",
    "1. 布尔值也是**数字**：`True`等价于`1`，`False`等价于`0`。\n",
    "\n",
    "```python\n",
    "#可配合sum函数在需要计算总数时简化操作\n",
    "l = [1,2,4,5,7]\n",
    "total_ou = sum(i % 2 == 0 for i in l)\n",
    "\n",
    "#将某个布尔值当做列表的下标使用，可实现类似三元表达式的目的\n",
    "result = [\"Python\", \"Javascript\"][2 > 1]\n",
    "\n",
    "```\n",
    "\n",
    "2. **使用括号将长字符串包起来，可以随意拆行**。\n",
    "\n",
    "```python\n",
    "s = (\n",
    "    \"There is something really bad happened during the process. \"\n",
    "    \"Please contact your administrator.\"\n",
    ")\n",
    "\n",
    "def main():\n",
    "    logger.info(\n",
    "        \"There is something really bad happened during the process. \"\n",
    "        \"Please contact your administrator.\"\n",
    "    )\n",
    "```\n",
    "3. 使用`textwrap`库解决带缩进层级的代码里的长字符串问题。\n",
    "\n",
    "```python\n",
    "for textwrap import dedent\n",
    "\n",
    "def main():\n",
    "    if user.is_active:\n",
    "        # dedent 将会缩进整段文字最左边的空字符串\n",
    "        message = dedent(\"\"\"\\\n",
    "            Welcome, today's movie list:\n",
    "            - Jaw (1975)\n",
    "            - The Shining (1980)\n",
    "            - Saw (2004)\"\"\")\n",
    "```\n",
    "4. 特别大的数字，可以通过在中间添加下划线提高可读性。\n",
    "\n",
    "```python\n",
    "# 以“千”为单位划分数字\n",
    "bill = 10_000_000.0\n",
    "# 16进制数字同样有效，4个一组更易读\n",
    "num1 = 0xCAFE_F00D\n",
    "# 二进制也有效\n",
    "num2 = 0b_0011_1111_0100_1110\n",
    "# 处理字符串的时候也会正确处理下划线\n",
    "num3 = int('0b_1111_0000', 2)\n",
    "```\n",
    "\n",
    "5. 使用“无穷大”float(\"inf\")：`float(\"-inf\") < 任意数值 < float(\"inf\")`\n",
    "\n",
    "```python\n",
    "# A.根据年龄升序排序，没有提供年龄的放在最后边\n",
    "users = {\"tom\": 19, \"jenny\": 13, \"jack\": None, \"andrew\": 43}\n",
    "sorted_users = sorted(users.keys(), key=lambda user: users.get(user) or float('inf'))\n",
    "\n",
    "# B. 作为循环初始值，简化第一次判断逻辑(特别是在不能明确实际数据的范围时)\n",
    "max_num = float('-inf')\n",
    "# 找到列表中最大的数字\n",
    "for i in [23,71,3,21,8]:\n",
    "    if i > max_num:\n",
    "        max_num = i\n",
    "```"
   ]
  },
  {
   "cell_type": "markdown",
   "metadata": {},
   "source": [
    "##### 常见误区\n",
    "\n",
    "1. `value += 1`并非线程安全：\n",
    "\n",
    "“线程安全”：通常被用来形容**某个行为或者某类数据结构，可以在多线程环境下被共享使用并产生预期内的结果**。\n",
    "\n",
    "一个典型的满足“线程安全”的模块是`queue`队列模块。\n",
    "\n",
    "> 多线程环境下的编码非常复杂，要足够谨慎，不能相信自己的直觉。"
   ]
  },
  {
   "cell_type": "markdown",
   "metadata": {},
   "source": [
    "### 容器之道\n",
    "\n",
    "**容器**：*对专门用来装其他对象的数据类型的统称。*\n",
    "\n",
    "容器的两个层面：\n",
    "* **底层实现**：内置容器类型使用了什么数据结构？某项操作如何工作？\n",
    "* **高层抽象**：什么决定了某个对象是不是容器？哪些行为定义了容器？\n",
    "\n",
    "常见的内建容器类型：\n",
    "* 列表（list）\n",
    "* 元组（tuple）\n",
    "* 字典（dict）\n",
    "* 集合（set）\n",
    "\n",
    "#### 底层看容器\n",
    "\n",
    "##### 写更快的代码\n",
    "\n",
    "1. 避免频繁扩充列表/创建新列表\n",
    "\n",
    "> 在Python的实现细节里面，列表的内存是按需分配的，当某个列表当前拥有的内存不够时，便会触发内存扩容逻辑。而分配内存是一项昂贵的操作。\n",
    "\n",
    "避免过于频繁的内存分配：\n",
    "* 更多的使用`yield`关键字，返回生成器对象\n",
    "* 尽量使用生成器表达式替代列表推导表达式\n",
    "    * 生成器表达式：`(i for i in range(100))`\n",
    "    * 列表推导表达式：`[i for i in range(100)]`\n",
    "* 尽量使用模块提供的懒惰对象：\n",
    "    * 使用`refinditer`替代`re.findall`\n",
    "    * 直接使用可迭代的文件对象：`for line in fp`，而不是`for line in fp.readlines()`\n",
    "\n",
    "2. 在列表头部操作多的场景使用`deque`模块\n",
    "\n",
    "如需在列表头部操作多，使用[`collections.deque`](https://docs.python.org/3.7/library/collections.html#collections.deque)类型替代列表。\n",
    "\n",
    "3. 使用集合/字典来判断成员是否存在\n",
    "\n",
    "> 判断成员是否存在于某个容器时，用集合比列表更合适，因为`item in {...}`的时间复杂度是`O(1)`，因为字典与集合都是基于哈希表（Hash Table）数据结构实现的。\n",
    "\n",
    "\n",
    "> Hint：关于容器类型的而时间复杂度相关内容：[TimeComplexity](https://wiki.python.org/moin/TimeComplexity)"
   ]
  },
  {
   "cell_type": "code",
   "execution_count": 1,
   "metadata": {},
   "outputs": [],
   "source": [
    "# 利用生成器表达式替代列表推导表达式\n",
    "test = (i for i in range(1000000000000000000000))"
   ]
  },
  {
   "cell_type": "markdown",
   "metadata": {},
   "source": [
    "#### 高层看容器\n",
    "\n",
    "每个内置容器类型，其实就是满足了多个接口定义的组合实体。\n",
    "\n",
    "面向对象编程中最重要的原则之一：**面向接口而非具体实现来编程**。\n",
    "\n",
    "##### 写扩展性更好的代码\n",
    "\n",
    "面向容器接口编程\n",
    "\n",
    "**让函数依赖“可迭代对象”这个抽象概念，而非实体列表类型。**\n",
    "\n"
   ]
  },
  {
   "cell_type": "code",
   "execution_count": 4,
   "metadata": {},
   "outputs": [],
   "source": [
    "import typing\n",
    "# 使用生成器特性，实现将超过一定长度的评论用省略号替代\n",
    "def add_ellipsis_gen(comments: typing.Iterable[str], max_length: int = 12):\n",
    "    \"\"\"如果可迭代评论里的内容超过max_length，剩下的字符用省略号替代\n",
    "    \"\"\"\n",
    "    for comment in comments:\n",
    "        comment = comment.strip()\n",
    "        if len(comment) > max_length:\n",
    "            yield comment[:max_length] + '...'\n",
    "        else:\n",
    "            yield comment\n"
   ]
  },
  {
   "cell_type": "code",
   "execution_count": 7,
   "metadata": {},
   "outputs": [
    {
     "name": "stdout",
     "output_type": "stream",
     "text": [
      "Implementati...\n",
      "Changed\n",
      "ABC for gene...\n"
     ]
    }
   ],
   "source": [
    "comments = [\n",
    "    \"Implementation note\",\n",
    "    \"Changed\",\n",
    "    \"ABC for generator\",\n",
    "]\n",
    "print(\"\\n\".join(add_ellipsis_gen(comments)))"
   ]
  },
  {
   "cell_type": "code",
   "execution_count": 6,
   "metadata": {},
   "outputs": [
    {
     "name": "stdout",
     "output_type": "stream",
     "text": [
      "Implementati...\n",
      "Changed\n",
      "ABC for gene...\n"
     ]
    }
   ],
   "source": [
    "comments = (\n",
    "    \"Implementation note\",\n",
    "    \"Changed\",\n",
    "    \"ABC for generator\",\n",
    ")\n",
    "print(\"\\n\".join(add_ellipsis_gen(comments)))"
   ]
  },
  {
   "cell_type": "markdown",
   "metadata": {},
   "source": [
    "无论评论是来自列表、元组或者某个文件，新函数都可以轻松满足。"
   ]
  },
  {
   "cell_type": "code",
   "execution_count": 8,
   "metadata": {},
   "outputs": [
    {
     "name": "stdout",
     "output_type": "stream",
     "text": [
      "Implementati...\n",
      "Changed\n",
      "ABC for gene...\n"
     ]
    }
   ],
   "source": [
    "# 处理放在元组里的评论\n",
    "comments = (\"Implementation note\", \"Changed\", \"ABC for generator\")\n",
    "print(\"\\n\".join(add_ellipsis_gen(comments)))\n"
   ]
  },
  {
   "cell_type": "code",
   "execution_count": 9,
   "metadata": {},
   "outputs": [
    {
     "name": "stdout",
     "output_type": "stream",
     "text": [
      "Implementati...\n",
      "Changed\n",
      "ABC for gene...\n"
     ]
    }
   ],
   "source": [
    "# 处理放在文件里的评论\n",
    "with open(\"comments.txt\") as fp:\n",
    "    for comment in add_ellipsis_gen(fp):\n",
    "        print(comment)"
   ]
  },
  {
   "cell_type": "markdown",
   "metadata": {},
   "source": [
    "将依赖由某个具体的容器类型改为抽象接口后，函数的适用面变得更广了。\n",
    "\n",
    "**从高层来看，什么定义了容器？**\n",
    "> **各个容器类型实现的接口协议定义了容器**。不同的容器类型在我们眼里，应该是*是否可以迭代、是否可以修改、有没有长度*等各种特性的组合。\n",
    "\n",
    "> **更多关注容器的抽象属性，而非容器类型本身**。\n",
    "\n"
   ]
  },
  {
   "cell_type": "markdown",
   "metadata": {},
   "source": [
    "#### 常用技巧\n",
    "\n",
    "1. 使用元组改善分支代码\n",
    "\n",
    "有时，代码里会出现超过三个分支的`if/else`："
   ]
  },
  {
   "cell_type": "code",
   "execution_count": 18,
   "metadata": {},
   "outputs": [
    {
     "name": "stdout",
     "output_type": "stream",
     "text": [
      "less than 1 second ago\n",
      "24 seconds ago\n",
      "10 minutes ago\n",
      "2 hours ago\n",
      "1 days ago\n"
     ]
    }
   ],
   "source": [
    "import time\n",
    "\n",
    "def from_now(ts):\n",
    "    \"\"\"接收一个过去的时间戳，返回距离当前时间的相对时间文字描述\n",
    "    \"\"\"\n",
    "    now = time.time()\n",
    "    seconds_delta = int(now - ts)\n",
    "    if seconds_delta < 1:\n",
    "        return \"less than 1 second ago\"\n",
    "    elif seconds_delta < 60:\n",
    "        return \"{} seconds ago\".format(seconds_delta)\n",
    "    elif seconds_delta < 3600:\n",
    "        return \"{} minutes ago\".format(seconds_delta // 60)\n",
    "    elif seconds_delta < 3600 * 24:\n",
    "        return \"{} hours ago\".format(seconds_delta // 3600)\n",
    "    else:\n",
    "        return \"{} days ago\".format(seconds_delta // (3600 * 24))\n",
    "\n",
    "\n",
    "now = time.time()\n",
    "print(from_now(now))\n",
    "print(from_now(now - 24))\n",
    "print(from_now(now - 600))\n",
    "print(from_now(now - 7500))\n",
    "print(from_now(now - 87500))\n",
    "\n",
    "        "
   ]
  },
  {
   "cell_type": "markdown",
   "metadata": {},
   "source": [
    "在上面的分支代码部分中可以找到一些明显的“**边界**”，**从边界提炼规律是优化这段代码的关键**。\n",
    "\n",
    "可以将所有的这些边界放在一个有序元组中，然后配合二分查找模板[`bisect`](https://docs.python.org/zh-cn/3.7/library/bisect.html)，可以大大简化整个函数的控制流："
   ]
  },
  {
   "cell_type": "code",
   "execution_count": 19,
   "metadata": {},
   "outputs": [
    {
     "name": "stdout",
     "output_type": "stream",
     "text": [
      "less than 1 second ago\n",
      "24 seconds ago\n",
      "10 minutes ago\n",
      "2 hours ago\n",
      "1 days ago\n"
     ]
    }
   ],
   "source": [
    "import bisect\n",
    "\n",
    "# BREAKPOINTS 必须是已经排好序的，不然无法进行二分查找\n",
    "BREAKPOINTS = (1, 60, 3600, 3600 * 24)\n",
    "TMPLS = (\n",
    "    # unit, template\n",
    "    (1, \"less than 1 second ago\"),\n",
    "    (1, \"{units} seconds ago\"),\n",
    "    (60, \"{units} minutes ago\"),\n",
    "    (3600, \"{units} hours ago\"),\n",
    "    (3600 * 24, \"{units} days ago\"),\n",
    ")\n",
    "\n",
    "def from_now(ts):\n",
    "    \"\"\"接收一个过去的时间戳，返回距离当前时间的相对时间文字描述\n",
    "    \"\"\"\n",
    "    seconds_delta = int(time.time() - ts)\n",
    "    unit, tmpl = TMPLS[bisect.bisect(BREAKPOINTS, seconds_delta)]\n",
    "    return tmpl.format(units=seconds_delta // unit)\n",
    "\n",
    "\n",
    "now = time.time()\n",
    "print(from_now(now))\n",
    "print(from_now(now - 24))\n",
    "print(from_now(now - 600))\n",
    "print(from_now(now - 7500))\n",
    "print(from_now(now - 87500))\n",
    "\n",
    "        "
   ]
  },
  {
   "cell_type": "markdown",
   "metadata": {},
   "source": [
    "除了用元组可以优化过多的`if/else`分支外，有些情况下字典也能被用来做同样的事情。\n",
    "\n",
    "2. 在更多地方使用动态解包\n",
    "\n",
    "动态解包操作是指使用`*`或`**`运算符将可迭代对象“解开”的行为，可以直接用`**`运算符来快速完成字典的合并操作："
   ]
  },
  {
   "cell_type": "code",
   "execution_count": 20,
   "metadata": {},
   "outputs": [
    {
     "name": "stdout",
     "output_type": "stream",
     "text": [
      "{'name': 'piglei', 'movies': ['Fight Club']}\n"
     ]
    }
   ],
   "source": [
    "user = {**{\"name\": \"piglei\"}, **{\"movies\": [\"Fight Club\"]}}\n",
    "\n",
    "print(user)"
   ]
  },
  {
   "cell_type": "markdown",
   "metadata": {},
   "source": [
    "可以在普通赋值语句中使用`*`运算符来动态地解包可迭代对象。\n",
    "\n",
    "3. 使用`next()`函数\n",
    "\n",
    "`next()`是一个非常实用的内建函数，接收一个迭代器作为参数，然后返回该迭代器的下一个元素。使用它配合生成器表达式，可以高效的实现“*从列表中查找第一个满足条件的成员*”之类的需求。"
   ]
  },
  {
   "cell_type": "code",
   "execution_count": 21,
   "metadata": {},
   "outputs": [
    {
     "name": "stdout",
     "output_type": "stream",
     "text": [
      "8\n"
     ]
    }
   ],
   "source": [
    "numbers = [3, 7, 8, 2, 21]\n",
    "# 获取并 **立即返回** 列表里的第一个偶数\n",
    "print(next(i for i in numbers if i % 2 ==0))\n"
   ]
  },
  {
   "cell_type": "markdown",
   "metadata": {},
   "source": [
    "4. 使用有序字典来去重\n",
    "\n",
    "字典和集合的结构特点保证了它们的成员不会重复，所以它们经常被用来去重。但是去重后会丢失原有列表的顺序（由底层数据结构“哈希表（Hash Table）”的特点决定的。"
   ]
  },
  {
   "cell_type": "code",
   "execution_count": 24,
   "metadata": {},
   "outputs": [
    {
     "data": {
      "text/plain": [
       "{2, 3, 10, 21}"
      ]
     },
     "execution_count": 24,
     "metadata": {},
     "output_type": "execute_result"
    }
   ],
   "source": [
    "l = [10, 2, 3, 21, 10, 3]\n",
    "# 去重但是丢失了顺序\n",
    "set(l)"
   ]
  },
  {
   "cell_type": "markdown",
   "metadata": {},
   "source": [
    "可以使用`collections.OrderedDict`模块去重并保留顺序："
   ]
  },
  {
   "cell_type": "code",
   "execution_count": 25,
   "metadata": {},
   "outputs": [
    {
     "data": {
      "text/plain": [
       "[10, 2, 3, 21]"
      ]
     },
     "execution_count": 25,
     "metadata": {},
     "output_type": "execute_result"
    }
   ],
   "source": [
    "from collections import OrderedDict\n",
    "list(OrderedDict.fromkeys(l).keys())"
   ]
  },
  {
   "cell_type": "code",
   "execution_count": null,
   "metadata": {},
   "outputs": [],
   "source": []
  }
 ],
 "metadata": {
  "kernelspec": {
   "display_name": "Python 3.7.3 ('base')",
   "language": "python",
   "name": "python3"
  },
  "language_info": {
   "codemirror_mode": {
    "name": "ipython",
    "version": 3
   },
   "file_extension": ".py",
   "mimetype": "text/x-python",
   "name": "python",
   "nbconvert_exporter": "python",
   "pygments_lexer": "ipython3",
   "version": "3.7.3"
  },
  "orig_nbformat": 4,
  "vscode": {
   "interpreter": {
    "hash": "4966f2686f0657cbb0f4ea9b441387dec616b016eec34c05c7f7f64bcdf9edbc"
   }
  }
 },
 "nbformat": 4,
 "nbformat_minor": 2
}
